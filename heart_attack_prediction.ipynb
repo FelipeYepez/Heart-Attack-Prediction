{
 "cells": [
  {
   "cell_type": "code",
   "execution_count": 339,
   "metadata": {},
   "outputs": [],
   "source": [
    "import numpy as np\n",
    "import pandas as pd\n",
    "\n",
    "heart_df = pd.read_csv('heart.csv', header = 0)\n",
    "# Shuffle dataframe\n",
    "heart_df = heart_df.sample(frac=1)\n",
    "\n",
    "n_train = heart_df.shape[0] * 0.8\n",
    "\n",
    "Y = heart_df[\"output\"].to_numpy()\n",
    "\n",
    "def normalize(series):\n",
    "    return series / series.abs().max()\n",
    "    \n",
    "for col in heart_df.columns:\n",
    "    heart_df[col] = normalize(heart_df[col])\n",
    "\n",
    "X = heart_df.drop([\"output\"], axis = 1).to_numpy()\n",
    "\n",
    "train_X = X[0: int(n_train), :].T\n",
    "test_X = X[int(n_train):, :].T\n",
    "\n",
    "train_Y = Y[0: int(n_train), ].T\n",
    "test_Y =  Y[int(n_train):, ].T"
   ]
  },
  {
   "cell_type": "code",
   "execution_count": 340,
   "metadata": {},
   "outputs": [],
   "source": [
    "def init_params_he(layer1, layer2):\n",
    "    W1 = np.random.randn(layer1, train_X.shape[0]) * np.sqrt(2 / train_X.shape[0], dtype='float64')\n",
    "    b1 = np.zeros((layer1, 1), dtype='float64')\n",
    "    W2 = np.random.randn(layer2, layer1) * np.sqrt(2 / layer1, dtype='float64')\n",
    "    b2 = np.zeros((layer2, 1), dtype='float64')\n",
    "    return W1, b1, W2, b2\n",
    "\n",
    "def ReLU(Z):\n",
    "    return np.maximum(Z, 0)\n",
    "\n",
    "def softmax(Z):\n",
    "    A = np.exp(Z) / sum(np.exp(Z + 1e-18))\n",
    "    return A\n",
    "    \n",
    "def forward_prop(W1, b1, W2, b2, X):\n",
    "    Z1 = W1.dot(X) + b1\n",
    "    A1 = ReLU(Z1)\n",
    "    Z2 = W2.dot(A1) + b2\n",
    "    A2 = softmax(Z2)\n",
    "    return Z1, A1, Z2, A2\n",
    "\n",
    "def ReLU_deriv(Z):\n",
    "    return Z > 0\n",
    "\n",
    "def one_hot(Y):\n",
    "    one_hot_Y = np.zeros((Y.size, int(Y.max()) + 1))\n",
    "    one_hot_Y[np.arange(Y.size), Y] = 1\n",
    "    one_hot_Y = one_hot_Y.T\n",
    "    return one_hot_Y\n",
    "\n",
    "def backward_prop(Z1, A1, Z2, A2, W1, W2, X, one_hot_Y):\n",
    "    m = X.shape[1]\n",
    "    dZ2 = A2 - one_hot_Y\n",
    "    dW2 = 1 / m * dZ2.dot(A1.T)\n",
    "    db2 = 1 / m * np.sum(dZ2)\n",
    "    dZ1 = W2.T.dot(dZ2) * ReLU_deriv(Z1)\n",
    "    dW1 = 1 / m * dZ1.dot(X.T)\n",
    "    db1 = 1 / m * np.sum(dZ1)\n",
    "    return dW1, db1, dW2, db2\n",
    "\n",
    "def update_params(W1, b1, W2, b2, dW1, db1, dW2, db2, learning_rate):\n",
    "    W1 = W1 - learning_rate * dW1\n",
    "    b1 = b1 - learning_rate * db1    \n",
    "    W2 = W2 - learning_rate * dW2  \n",
    "    b2 = b2 - learning_rate * db2    \n",
    "    return W1, b1, W2, b2"
   ]
  },
  {
   "cell_type": "code",
   "execution_count": 341,
   "metadata": {},
   "outputs": [],
   "source": [
    "def get_predictions(A2):\n",
    "    return np.rint(A2)\n",
    "\n",
    "def get_accuracy(predictions, Y):\n",
    "    return np.sum(predictions == Y) / Y.size\n",
    "\n",
    "\n",
    "def gradient_descent(X, Y, learning_rate, epochs, hidden_neurons):\n",
    "    classifications = 2\n",
    "    W1, b1, W2, b2 = init_params_he(hidden_neurons, classifications)\n",
    "    for i in range(epochs):\n",
    "        Z1, A1, Z2, A2 = forward_prop(W1, b1, W2, b2, X)\n",
    "        dW1, db1, dW2, db2 = backward_prop(Z1, A1, Z2, A2, W1, W2, X, Y)\n",
    "        W1, b1, W2, b2 = update_params(W1, b1, W2, b2, dW1, db1, dW2, db2, learning_rate)\n",
    "        if i % 10 == 0:\n",
    "            print(\"Iteration: \", i)\n",
    "            predictions = get_predictions(A2)\n",
    "            print(\"Train accuracy: \", get_accuracy(predictions, Y))\n",
    "    return W1, b1, W2, b2"
   ]
  },
  {
   "cell_type": "code",
   "execution_count": 342,
   "metadata": {},
   "outputs": [
    {
     "name": "stdout",
     "output_type": "stream",
     "text": [
      "Iteration:  0\n",
      "Train accuracy:  0.5041322314049587\n",
      "Iteration:  10\n",
      "Train accuracy:  0.7024793388429752\n",
      "Iteration:  20\n",
      "Train accuracy:  0.731404958677686\n",
      "Iteration:  30\n",
      "Train accuracy:  0.7520661157024794\n",
      "Iteration:  40\n",
      "Train accuracy:  0.7520661157024794\n",
      "Iteration:  50\n",
      "Train accuracy:  0.7479338842975206\n",
      "Iteration:  60\n",
      "Train accuracy:  0.7520661157024794\n",
      "Iteration:  70\n",
      "Train accuracy:  0.7520661157024794\n",
      "Iteration:  80\n",
      "Train accuracy:  0.756198347107438\n",
      "Iteration:  90\n",
      "Train accuracy:  0.7644628099173554\n",
      "Iteration:  100\n",
      "Train accuracy:  0.7644628099173554\n",
      "Iteration:  110\n",
      "Train accuracy:  0.7727272727272727\n",
      "Iteration:  120\n",
      "Train accuracy:  0.7851239669421488\n",
      "Iteration:  130\n",
      "Train accuracy:  0.7892561983471075\n",
      "Iteration:  140\n",
      "Train accuracy:  0.7933884297520661\n",
      "Iteration:  150\n",
      "Train accuracy:  0.7975206611570248\n",
      "Iteration:  160\n",
      "Train accuracy:  0.7975206611570248\n",
      "Iteration:  170\n",
      "Train accuracy:  0.7975206611570248\n",
      "Iteration:  180\n",
      "Train accuracy:  0.7975206611570248\n",
      "Iteration:  190\n",
      "Train accuracy:  0.8057851239669421\n",
      "Iteration:  200\n",
      "Train accuracy:  0.8099173553719008\n",
      "Iteration:  210\n",
      "Train accuracy:  0.8140495867768595\n",
      "Iteration:  220\n",
      "Train accuracy:  0.8305785123966942\n",
      "Iteration:  230\n",
      "Train accuracy:  0.8305785123966942\n",
      "Iteration:  240\n",
      "Train accuracy:  0.8305785123966942\n",
      "Iteration:  250\n",
      "Train accuracy:  0.8305785123966942\n",
      "Iteration:  260\n",
      "Train accuracy:  0.8264462809917356\n",
      "Iteration:  270\n",
      "Train accuracy:  0.8264462809917356\n",
      "Iteration:  280\n",
      "Train accuracy:  0.8264462809917356\n",
      "Iteration:  290\n",
      "Train accuracy:  0.8305785123966942\n",
      "Iteration:  300\n",
      "Train accuracy:  0.8347107438016529\n",
      "Iteration:  310\n",
      "Train accuracy:  0.8347107438016529\n",
      "Iteration:  320\n",
      "Train accuracy:  0.8347107438016529\n",
      "Iteration:  330\n",
      "Train accuracy:  0.8388429752066116\n",
      "Iteration:  340\n",
      "Train accuracy:  0.8388429752066116\n",
      "Iteration:  350\n",
      "Train accuracy:  0.8429752066115702\n",
      "Iteration:  360\n",
      "Train accuracy:  0.8429752066115702\n",
      "Iteration:  370\n",
      "Train accuracy:  0.8429752066115702\n",
      "Iteration:  380\n",
      "Train accuracy:  0.8429752066115702\n",
      "Iteration:  390\n",
      "Train accuracy:  0.8429752066115702\n"
     ]
    }
   ],
   "source": [
    "W1, b1, W2, b2 = gradient_descent(train_X, one_hot(train_Y), learning_rate = 0.10, epochs = 400, hidden_neurons = 8)"
   ]
  },
  {
   "cell_type": "code",
   "execution_count": 343,
   "metadata": {},
   "outputs": [],
   "source": [
    "def test(W1, b1, W2, b2, X, Y):\n",
    "    Z1, A1, Z2, A2 = forward_prop(W1, b1, W2, b2, X)\n",
    "    predictions = get_predictions(A2)\n",
    "    print(\"Test accuracy: \", get_accuracy(predictions, Y))"
   ]
  },
  {
   "cell_type": "code",
   "execution_count": 344,
   "metadata": {},
   "outputs": [
    {
     "name": "stdout",
     "output_type": "stream",
     "text": [
      "Test accuracy:  0.9180327868852459\n"
     ]
    }
   ],
   "source": [
    "test(W1, b1, W2, b2, test_X, one_hot(test_Y))"
   ]
  }
 ],
 "metadata": {
  "kernelspec": {
   "display_name": "Python 3.8.8 ('base')",
   "language": "python",
   "name": "python3"
  },
  "language_info": {
   "codemirror_mode": {
    "name": "ipython",
    "version": 3
   },
   "file_extension": ".py",
   "mimetype": "text/x-python",
   "name": "python",
   "nbconvert_exporter": "python",
   "pygments_lexer": "ipython3",
   "version": "3.8.8"
  },
  "orig_nbformat": 4,
  "vscode": {
   "interpreter": {
    "hash": "ce8b5e658b2eede209b31591b9f0d4f1ed334d79e0c4190ad78d2af0dd810241"
   }
  }
 },
 "nbformat": 4,
 "nbformat_minor": 2
}
